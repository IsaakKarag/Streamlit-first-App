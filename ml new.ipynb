{
 "cells": [
  {
   "cell_type": "code",
   "execution_count": 1,
   "id": "75f5dbca",
   "metadata": {},
   "outputs": [],
   "source": [
    "import pandas as pd \n",
    "import numpy as np \n",
    "import matplotlib.pyplot as plt\n",
    "import seaborn as sns\n",
    "\n",
    "\n",
    "\n",
    "df= pd.read_csv(\"survey_results_public.csv\")"
   ]
  },
  {
   "cell_type": "code",
   "execution_count": 2,
   "id": "c0300a7d",
   "metadata": {},
   "outputs": [],
   "source": [
    "df['EdLevel'].fillna('Something else', axis=0, inplace=True)"
   ]
  },
  {
   "cell_type": "code",
   "execution_count": 3,
   "id": "8e2a7601",
   "metadata": {},
   "outputs": [],
   "source": [
    " df.drop(['US_State', 'UK_Country', 'ResponseId', 'CompTotal'], axis=1, inplace=True)"
   ]
  },
  {
   "cell_type": "code",
   "execution_count": 4,
   "id": "9de55fbe",
   "metadata": {},
   "outputs": [],
   "source": [
    "df['Country'] = df['Country'].replace(['United Kingdom of Great Britain and Northern Ireland'], 'United Kingdom')"
   ]
  },
  {
   "cell_type": "code",
   "execution_count": 5,
   "id": "6e91f1f6",
   "metadata": {},
   "outputs": [],
   "source": [
    "df = df.rename({\"ConvertedCompYearly\": \"Salary\"}, axis=1)"
   ]
  },
  {
   "cell_type": "code",
   "execution_count": 6,
   "id": "1f40af9b",
   "metadata": {},
   "outputs": [],
   "source": [
    "df = df[df['Country'].isin(['Slovakia', 'Netherlands','Russian Federation', 'Austria', 'United Kingdom',\n",
    "                           'Sweden','Spain','Germany','France', 'Switzerland', 'Poland', 'Ukraine','Portugal', 'Italy', 'Bulgaria', 'Greece',\n",
    "                           'Ireland','Hungary', 'Belgium','Albania','Romania','Lithuania', 'Slovenia','Croatia','Czech Republic','Denmark',\n",
    "                            'Serbia','Estonia','Finland','Bosnia and Herzegovina','Norway','Belarus','Luxembourg','Malta','Cyprus',\n",
    "                            'Latvia','Iceland','Republic of Moldova','Montenegro','Monaco','Liechtenstein'])]"
   ]
  },
  {
   "cell_type": "code",
   "execution_count": 7,
   "id": "848a9be7",
   "metadata": {},
   "outputs": [],
   "source": [
    "df = df[['EdLevel','Country', 'YearsCodePro',\"Employment\", 'Age','Age1stCode', 'Salary']]"
   ]
  },
  {
   "cell_type": "code",
   "execution_count": 8,
   "id": "107f74c2",
   "metadata": {},
   "outputs": [],
   "source": [
    "df = df[df[\"Employment\"]== \"Employed full-time\"]"
   ]
  },
  {
   "cell_type": "code",
   "execution_count": 9,
   "id": "6aaefc50",
   "metadata": {},
   "outputs": [],
   "source": [
    "df = df.dropna()"
   ]
  },
  {
   "cell_type": "code",
   "execution_count": 10,
   "id": "0b7c169c",
   "metadata": {},
   "outputs": [],
   "source": [
    "df = df[df[\"Salary\"] <=250000]\n",
    "df = df[df[\"Salary\"] >= 10000]"
   ]
  },
  {
   "cell_type": "code",
   "execution_count": 11,
   "id": "8ca65097",
   "metadata": {},
   "outputs": [],
   "source": [
    "def experience(x):\n",
    "    if x == 'More than 50 years':\n",
    "        return 55\n",
    "    if x == 'Less than 1 year':\n",
    "        return 0.5\n",
    "    return float(x)\n",
    "\n",
    "df['YearsCodePro'] = df['YearsCodePro'].apply(experience)"
   ]
  },
  {
   "cell_type": "code",
   "execution_count": 12,
   "id": "8346427e",
   "metadata": {},
   "outputs": [],
   "source": [
    "def education (x):\n",
    "    if 'Bachelor’s degree' in x:\n",
    "        return 'Bachelor’s degree'\n",
    "    if 'Master’s degree' in x:\n",
    "        return 'Master’s degree'\n",
    "    if 'Professional degree' in x or 'Other doctoral degree' in x:\n",
    "        return 'Post Grad'\n",
    "    return 'Less than a Bachelors'\n",
    "\n",
    "df[\"EdLevel\"] = df['EdLevel'].apply(education)"
   ]
  },
  {
   "cell_type": "code",
   "execution_count": 13,
   "id": "5d8acdc9",
   "metadata": {},
   "outputs": [],
   "source": [
    "df = df.drop(\"Employment\", axis=1)\n",
    "df = df.drop(['Age1stCode'], axis=1)"
   ]
  },
  {
   "cell_type": "code",
   "execution_count": 14,
   "id": "371a044a",
   "metadata": {},
   "outputs": [],
   "source": [
    "from sklearn.preprocessing import LabelEncoder"
   ]
  },
  {
   "cell_type": "code",
   "execution_count": 15,
   "id": "102404a1",
   "metadata": {},
   "outputs": [],
   "source": [
    "le_ed = LabelEncoder()\n",
    "df['EdLevel'] = le_ed.fit_transform(df['EdLevel'])"
   ]
  },
  {
   "cell_type": "code",
   "execution_count": 16,
   "id": "7ead1f08",
   "metadata": {},
   "outputs": [],
   "source": [
    "le_age = LabelEncoder()\n",
    "df['Age'] = le_age.fit_transform(df['Age'])"
   ]
  },
  {
   "cell_type": "code",
   "execution_count": 17,
   "id": "cf5870c7",
   "metadata": {},
   "outputs": [],
   "source": [
    "le_coun = LabelEncoder()\n",
    "df['Country'] = le_coun.fit_transform(df['Country'])"
   ]
  },
  {
   "cell_type": "code",
   "execution_count": 18,
   "id": "8a107761",
   "metadata": {},
   "outputs": [],
   "source": [
    "X = df.drop(\"Salary\", axis=1)\n",
    "y = df[\"Salary\"]"
   ]
  },
  {
   "cell_type": "code",
   "execution_count": 19,
   "id": "4798aca1",
   "metadata": {},
   "outputs": [],
   "source": [
    "from sklearn.model_selection import train_test_split"
   ]
  },
  {
   "cell_type": "code",
   "execution_count": 20,
   "id": "a2159045",
   "metadata": {},
   "outputs": [],
   "source": [
    "from sklearn.metrics import mean_squared_error, r2_score\n",
    "from math import sqrt"
   ]
  },
  {
   "cell_type": "code",
   "execution_count": 21,
   "id": "eec2b1a5",
   "metadata": {},
   "outputs": [],
   "source": [
    "X_train, X_test, y_train, y_test = train_test_split(X,y, test_size=0.2)"
   ]
  },
  {
   "cell_type": "code",
   "execution_count": 22,
   "id": "bd05bfd0",
   "metadata": {},
   "outputs": [],
   "source": [
    "from sklearn.ensemble import RandomForestRegressor"
   ]
  },
  {
   "cell_type": "code",
   "execution_count": 23,
   "id": "c0bff7c3",
   "metadata": {},
   "outputs": [
    {
     "data": {
      "text/html": [
       "<style>#sk-container-id-1 {color: black;background-color: white;}#sk-container-id-1 pre{padding: 0;}#sk-container-id-1 div.sk-toggleable {background-color: white;}#sk-container-id-1 label.sk-toggleable__label {cursor: pointer;display: block;width: 100%;margin-bottom: 0;padding: 0.3em;box-sizing: border-box;text-align: center;}#sk-container-id-1 label.sk-toggleable__label-arrow:before {content: \"▸\";float: left;margin-right: 0.25em;color: #696969;}#sk-container-id-1 label.sk-toggleable__label-arrow:hover:before {color: black;}#sk-container-id-1 div.sk-estimator:hover label.sk-toggleable__label-arrow:before {color: black;}#sk-container-id-1 div.sk-toggleable__content {max-height: 0;max-width: 0;overflow: hidden;text-align: left;background-color: #f0f8ff;}#sk-container-id-1 div.sk-toggleable__content pre {margin: 0.2em;color: black;border-radius: 0.25em;background-color: #f0f8ff;}#sk-container-id-1 input.sk-toggleable__control:checked~div.sk-toggleable__content {max-height: 200px;max-width: 100%;overflow: auto;}#sk-container-id-1 input.sk-toggleable__control:checked~label.sk-toggleable__label-arrow:before {content: \"▾\";}#sk-container-id-1 div.sk-estimator input.sk-toggleable__control:checked~label.sk-toggleable__label {background-color: #d4ebff;}#sk-container-id-1 div.sk-label input.sk-toggleable__control:checked~label.sk-toggleable__label {background-color: #d4ebff;}#sk-container-id-1 input.sk-hidden--visually {border: 0;clip: rect(1px 1px 1px 1px);clip: rect(1px, 1px, 1px, 1px);height: 1px;margin: -1px;overflow: hidden;padding: 0;position: absolute;width: 1px;}#sk-container-id-1 div.sk-estimator {font-family: monospace;background-color: #f0f8ff;border: 1px dotted black;border-radius: 0.25em;box-sizing: border-box;margin-bottom: 0.5em;}#sk-container-id-1 div.sk-estimator:hover {background-color: #d4ebff;}#sk-container-id-1 div.sk-parallel-item::after {content: \"\";width: 100%;border-bottom: 1px solid gray;flex-grow: 1;}#sk-container-id-1 div.sk-label:hover label.sk-toggleable__label {background-color: #d4ebff;}#sk-container-id-1 div.sk-serial::before {content: \"\";position: absolute;border-left: 1px solid gray;box-sizing: border-box;top: 0;bottom: 0;left: 50%;z-index: 0;}#sk-container-id-1 div.sk-serial {display: flex;flex-direction: column;align-items: center;background-color: white;padding-right: 0.2em;padding-left: 0.2em;position: relative;}#sk-container-id-1 div.sk-item {position: relative;z-index: 1;}#sk-container-id-1 div.sk-parallel {display: flex;align-items: stretch;justify-content: center;background-color: white;position: relative;}#sk-container-id-1 div.sk-item::before, #sk-container-id-1 div.sk-parallel-item::before {content: \"\";position: absolute;border-left: 1px solid gray;box-sizing: border-box;top: 0;bottom: 0;left: 50%;z-index: -1;}#sk-container-id-1 div.sk-parallel-item {display: flex;flex-direction: column;z-index: 1;position: relative;background-color: white;}#sk-container-id-1 div.sk-parallel-item:first-child::after {align-self: flex-end;width: 50%;}#sk-container-id-1 div.sk-parallel-item:last-child::after {align-self: flex-start;width: 50%;}#sk-container-id-1 div.sk-parallel-item:only-child::after {width: 0;}#sk-container-id-1 div.sk-dashed-wrapped {border: 1px dashed gray;margin: 0 0.4em 0.5em 0.4em;box-sizing: border-box;padding-bottom: 0.4em;background-color: white;}#sk-container-id-1 div.sk-label label {font-family: monospace;font-weight: bold;display: inline-block;line-height: 1.2em;}#sk-container-id-1 div.sk-label-container {text-align: center;}#sk-container-id-1 div.sk-container {/* jupyter's `normalize.less` sets `[hidden] { display: none; }` but bootstrap.min.css set `[hidden] { display: none !important; }` so we also need the `!important` here to be able to override the default hidden behavior on the sphinx rendered scikit-learn.org. See: https://github.com/scikit-learn/scikit-learn/issues/21755 */display: inline-block !important;position: relative;}#sk-container-id-1 div.sk-text-repr-fallback {display: none;}</style><div id=\"sk-container-id-1\" class=\"sk-top-container\"><div class=\"sk-text-repr-fallback\"><pre>RandomForestRegressor(max_depth=150, max_features=&#x27;sqrt&#x27;, n_estimators=600,\n",
       "                      random_state=42)</pre><b>In a Jupyter environment, please rerun this cell to show the HTML representation or trust the notebook. <br />On GitHub, the HTML representation is unable to render, please try loading this page with nbviewer.org.</b></div><div class=\"sk-container\" hidden><div class=\"sk-item\"><div class=\"sk-estimator sk-toggleable\"><input class=\"sk-toggleable__control sk-hidden--visually\" id=\"sk-estimator-id-1\" type=\"checkbox\" checked><label for=\"sk-estimator-id-1\" class=\"sk-toggleable__label sk-toggleable__label-arrow\">RandomForestRegressor</label><div class=\"sk-toggleable__content\"><pre>RandomForestRegressor(max_depth=150, max_features=&#x27;sqrt&#x27;, n_estimators=600,\n",
       "                      random_state=42)</pre></div></div></div></div></div>"
      ],
      "text/plain": [
       "RandomForestRegressor(max_depth=150, max_features='sqrt', n_estimators=600,\n",
       "                      random_state=42)"
      ]
     },
     "execution_count": 23,
     "metadata": {},
     "output_type": "execute_result"
    }
   ],
   "source": [
    "rfr1 = RandomForestRegressor(random_state=42,\n",
    "                            n_estimators=600,\n",
    "                        \n",
    "                            max_depth=150,\n",
    "                        \n",
    "                            bootstrap=True,\n",
    "                            max_features='sqrt')\n",
    "                           \n",
    "rfr1.fit(X_train.values, y_train.values)"
   ]
  },
  {
   "cell_type": "code",
   "execution_count": 27,
   "id": "c0f83b66",
   "metadata": {
    "scrolled": true
   },
   "outputs": [],
   "source": [
    "pred_rfr = rfr1.predict(X_test.values)"
   ]
  },
  {
   "cell_type": "code",
   "execution_count": 28,
   "id": "eba3dc80",
   "metadata": {},
   "outputs": [
    {
     "name": "stdout",
     "output_type": "stream",
     "text": [
      "RMSE: 26342.26\n",
      "R_squared: 0.34\n"
     ]
    }
   ],
   "source": [
    "print(\"RMSE: \" + str(round(sqrt(mean_squared_error(y_test, pred_rfr)),2)))\n",
    "print(\"R_squared: \" + str(round(r2_score(y_test,pred_rfr),2)))"
   ]
  },
  {
   "cell_type": "code",
   "execution_count": 29,
   "id": "72cf7c6a",
   "metadata": {},
   "outputs": [],
   "source": [
    "Xn = np.array([[\"Master’s degree\",\"Switzerland\", 10, \"35-44 years old\" ]])"
   ]
  },
  {
   "cell_type": "code",
   "execution_count": 30,
   "id": "672e3eaf",
   "metadata": {},
   "outputs": [
    {
     "data": {
      "text/plain": [
       "array([['Master’s degree', 'Switzerland', '10', '35-44 years old']],\n",
       "      dtype='<U21')"
      ]
     },
     "execution_count": 30,
     "metadata": {},
     "output_type": "execute_result"
    }
   ],
   "source": [
    "Xn"
   ]
  },
  {
   "cell_type": "code",
   "execution_count": 31,
   "id": "dac2f12a",
   "metadata": {},
   "outputs": [
    {
     "data": {
      "text/plain": [
       "array([[ 2., 37., 10.,  2.]])"
      ]
     },
     "execution_count": 31,
     "metadata": {},
     "output_type": "execute_result"
    }
   ],
   "source": [
    "Xn[:, 1] = le_coun.transform(Xn[:,1])\n",
    "Xn[:, 0] = le_ed.transform(Xn[:,0])\n",
    "Xn[:, 3] = le_age.transform(Xn[:,3])\n",
    "Xn = Xn.astype(float)\n",
    "Xn"
   ]
  },
  {
   "cell_type": "code",
   "execution_count": 32,
   "id": "677f5767",
   "metadata": {},
   "outputs": [
    {
     "data": {
      "text/plain": [
       "array([118156.86481926])"
      ]
     },
     "execution_count": 32,
     "metadata": {},
     "output_type": "execute_result"
    }
   ],
   "source": [
    "y_pred_k = rfr1.predict(Xn)\n",
    "y_pred_k"
   ]
  },
  {
   "cell_type": "code",
   "execution_count": 33,
   "id": "ee4c8c0a",
   "metadata": {},
   "outputs": [],
   "source": [
    "import pickle"
   ]
  },
  {
   "cell_type": "code",
   "execution_count": 34,
   "id": "c23f1bab",
   "metadata": {},
   "outputs": [],
   "source": [
    "rfmod = {\"model\":rfr1, \"le_coun\":le_coun, \"le_ed\":le_ed, \"le_age\":le_age}\n",
    "with open('salary_mod1.pkl', 'wb') as file1:\n",
    "    pickle.dump(rfmod, file1)"
   ]
  },
  {
   "cell_type": "code",
   "execution_count": 35,
   "id": "08a6d2bb",
   "metadata": {},
   "outputs": [],
   "source": [
    "with open('salary_mod1.pkl', 'rb') as file1:\n",
    "    rfmod = pickle.load(file1)\n",
    "    \n",
    "rf = rfmod[\"model\"]\n",
    "le_coun = rfmod[\"le_coun\"]\n",
    "le_ed = rfmod[\"le_ed\"]\n",
    "le_age = rfmod[\"le_age\"]"
   ]
  },
  {
   "cell_type": "code",
   "execution_count": 36,
   "id": "9a3a334c",
   "metadata": {},
   "outputs": [
    {
     "data": {
      "text/plain": [
       "array([118156.86481926])"
      ]
     },
     "execution_count": 36,
     "metadata": {},
     "output_type": "execute_result"
    }
   ],
   "source": [
    "val_test = rfr1.predict(Xn)\n",
    "val_test"
   ]
  },
  {
   "cell_type": "code",
   "execution_count": null,
   "id": "0ca2f67b",
   "metadata": {},
   "outputs": [],
   "source": []
  }
 ],
 "metadata": {
  "kernelspec": {
   "display_name": "ml",
   "language": "python",
   "name": "ml"
  },
  "language_info": {
   "codemirror_mode": {
    "name": "ipython",
    "version": 3
   },
   "file_extension": ".py",
   "mimetype": "text/x-python",
   "name": "python",
   "nbconvert_exporter": "python",
   "pygments_lexer": "ipython3",
   "version": "3.8.13"
  }
 },
 "nbformat": 4,
 "nbformat_minor": 5
}
