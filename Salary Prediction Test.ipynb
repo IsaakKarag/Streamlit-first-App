{
 "cells": [
  {
   "cell_type": "code",
   "execution_count": 1,
   "id": "dd32e9ff",
   "metadata": {},
   "outputs": [],
   "source": [
    "import pandas as pd \n",
    "import numpy as np \n",
    "import matplotlib.pyplot as plt\n",
    "import seaborn as sns\n",
    "\n",
    "import warnings\n",
    "warnings.filterwarnings('ignore')\n",
    "warnings.filterwarnings('ignore', category=DeprecationWarning)\n",
    "\n",
    "\n",
    "\n",
    "df= pd.read_csv(\"survey_results_public.csv\")"
   ]
  },
  {
   "cell_type": "code",
   "execution_count": 2,
   "id": "188a7122",
   "metadata": {
    "scrolled": true
   },
   "outputs": [
    {
     "data": {
      "text/html": [
       "<div>\n",
       "<style scoped>\n",
       "    .dataframe tbody tr th:only-of-type {\n",
       "        vertical-align: middle;\n",
       "    }\n",
       "\n",
       "    .dataframe tbody tr th {\n",
       "        vertical-align: top;\n",
       "    }\n",
       "\n",
       "    .dataframe thead th {\n",
       "        text-align: right;\n",
       "    }\n",
       "</style>\n",
       "<table border=\"1\" class=\"dataframe\">\n",
       "  <thead>\n",
       "    <tr style=\"text-align: right;\">\n",
       "      <th></th>\n",
       "      <th>ResponseId</th>\n",
       "      <th>MainBranch</th>\n",
       "      <th>Employment</th>\n",
       "      <th>Country</th>\n",
       "      <th>US_State</th>\n",
       "      <th>UK_Country</th>\n",
       "      <th>EdLevel</th>\n",
       "      <th>Age1stCode</th>\n",
       "      <th>LearnCode</th>\n",
       "      <th>YearsCode</th>\n",
       "      <th>...</th>\n",
       "      <th>Age</th>\n",
       "      <th>Gender</th>\n",
       "      <th>Trans</th>\n",
       "      <th>Sexuality</th>\n",
       "      <th>Ethnicity</th>\n",
       "      <th>Accessibility</th>\n",
       "      <th>MentalHealth</th>\n",
       "      <th>SurveyLength</th>\n",
       "      <th>SurveyEase</th>\n",
       "      <th>ConvertedCompYearly</th>\n",
       "    </tr>\n",
       "  </thead>\n",
       "  <tbody>\n",
       "    <tr>\n",
       "      <th>0</th>\n",
       "      <td>1</td>\n",
       "      <td>I am a developer by profession</td>\n",
       "      <td>Independent contractor, freelancer, or self-em...</td>\n",
       "      <td>Slovakia</td>\n",
       "      <td>NaN</td>\n",
       "      <td>NaN</td>\n",
       "      <td>Secondary school (e.g. American high school, G...</td>\n",
       "      <td>18 - 24 years</td>\n",
       "      <td>Coding Bootcamp;Other online resources (ex: vi...</td>\n",
       "      <td>NaN</td>\n",
       "      <td>...</td>\n",
       "      <td>25-34 years old</td>\n",
       "      <td>Man</td>\n",
       "      <td>No</td>\n",
       "      <td>Straight / Heterosexual</td>\n",
       "      <td>White or of European descent</td>\n",
       "      <td>None of the above</td>\n",
       "      <td>None of the above</td>\n",
       "      <td>Appropriate in length</td>\n",
       "      <td>Easy</td>\n",
       "      <td>62268.0</td>\n",
       "    </tr>\n",
       "    <tr>\n",
       "      <th>1</th>\n",
       "      <td>2</td>\n",
       "      <td>I am a student who is learning to code</td>\n",
       "      <td>Student, full-time</td>\n",
       "      <td>Netherlands</td>\n",
       "      <td>NaN</td>\n",
       "      <td>NaN</td>\n",
       "      <td>Bachelor’s degree (B.A., B.S., B.Eng., etc.)</td>\n",
       "      <td>11 - 17 years</td>\n",
       "      <td>Other online resources (ex: videos, blogs, etc...</td>\n",
       "      <td>7</td>\n",
       "      <td>...</td>\n",
       "      <td>18-24 years old</td>\n",
       "      <td>Man</td>\n",
       "      <td>No</td>\n",
       "      <td>Straight / Heterosexual</td>\n",
       "      <td>White or of European descent</td>\n",
       "      <td>None of the above</td>\n",
       "      <td>None of the above</td>\n",
       "      <td>Appropriate in length</td>\n",
       "      <td>Easy</td>\n",
       "      <td>NaN</td>\n",
       "    </tr>\n",
       "    <tr>\n",
       "      <th>2</th>\n",
       "      <td>3</td>\n",
       "      <td>I am not primarily a developer, but I write co...</td>\n",
       "      <td>Student, full-time</td>\n",
       "      <td>Russian Federation</td>\n",
       "      <td>NaN</td>\n",
       "      <td>NaN</td>\n",
       "      <td>Bachelor’s degree (B.A., B.S., B.Eng., etc.)</td>\n",
       "      <td>11 - 17 years</td>\n",
       "      <td>Other online resources (ex: videos, blogs, etc...</td>\n",
       "      <td>NaN</td>\n",
       "      <td>...</td>\n",
       "      <td>18-24 years old</td>\n",
       "      <td>Man</td>\n",
       "      <td>No</td>\n",
       "      <td>Prefer not to say</td>\n",
       "      <td>Prefer not to say</td>\n",
       "      <td>None of the above</td>\n",
       "      <td>None of the above</td>\n",
       "      <td>Appropriate in length</td>\n",
       "      <td>Easy</td>\n",
       "      <td>NaN</td>\n",
       "    </tr>\n",
       "    <tr>\n",
       "      <th>3</th>\n",
       "      <td>4</td>\n",
       "      <td>I am a developer by profession</td>\n",
       "      <td>Employed full-time</td>\n",
       "      <td>Austria</td>\n",
       "      <td>NaN</td>\n",
       "      <td>NaN</td>\n",
       "      <td>Master’s degree (M.A., M.S., M.Eng., MBA, etc.)</td>\n",
       "      <td>11 - 17 years</td>\n",
       "      <td>NaN</td>\n",
       "      <td>NaN</td>\n",
       "      <td>...</td>\n",
       "      <td>35-44 years old</td>\n",
       "      <td>Man</td>\n",
       "      <td>No</td>\n",
       "      <td>Straight / Heterosexual</td>\n",
       "      <td>White or of European descent</td>\n",
       "      <td>I am deaf / hard of hearing</td>\n",
       "      <td>NaN</td>\n",
       "      <td>Appropriate in length</td>\n",
       "      <td>Neither easy nor difficult</td>\n",
       "      <td>NaN</td>\n",
       "    </tr>\n",
       "    <tr>\n",
       "      <th>4</th>\n",
       "      <td>5</td>\n",
       "      <td>I am a developer by profession</td>\n",
       "      <td>Independent contractor, freelancer, or self-em...</td>\n",
       "      <td>United Kingdom of Great Britain and Northern I...</td>\n",
       "      <td>NaN</td>\n",
       "      <td>England</td>\n",
       "      <td>Master’s degree (M.A., M.S., M.Eng., MBA, etc.)</td>\n",
       "      <td>5 - 10 years</td>\n",
       "      <td>Friend or family member</td>\n",
       "      <td>17</td>\n",
       "      <td>...</td>\n",
       "      <td>25-34 years old</td>\n",
       "      <td>Man</td>\n",
       "      <td>No</td>\n",
       "      <td>NaN</td>\n",
       "      <td>White or of European descent</td>\n",
       "      <td>None of the above</td>\n",
       "      <td>NaN</td>\n",
       "      <td>Appropriate in length</td>\n",
       "      <td>Easy</td>\n",
       "      <td>NaN</td>\n",
       "    </tr>\n",
       "  </tbody>\n",
       "</table>\n",
       "<p>5 rows × 48 columns</p>\n",
       "</div>"
      ],
      "text/plain": [
       "   ResponseId                                         MainBranch  \\\n",
       "0           1                     I am a developer by profession   \n",
       "1           2             I am a student who is learning to code   \n",
       "2           3  I am not primarily a developer, but I write co...   \n",
       "3           4                     I am a developer by profession   \n",
       "4           5                     I am a developer by profession   \n",
       "\n",
       "                                          Employment  \\\n",
       "0  Independent contractor, freelancer, or self-em...   \n",
       "1                                 Student, full-time   \n",
       "2                                 Student, full-time   \n",
       "3                                 Employed full-time   \n",
       "4  Independent contractor, freelancer, or self-em...   \n",
       "\n",
       "                                             Country US_State UK_Country  \\\n",
       "0                                           Slovakia      NaN        NaN   \n",
       "1                                        Netherlands      NaN        NaN   \n",
       "2                                 Russian Federation      NaN        NaN   \n",
       "3                                            Austria      NaN        NaN   \n",
       "4  United Kingdom of Great Britain and Northern I...      NaN    England   \n",
       "\n",
       "                                             EdLevel     Age1stCode  \\\n",
       "0  Secondary school (e.g. American high school, G...  18 - 24 years   \n",
       "1       Bachelor’s degree (B.A., B.S., B.Eng., etc.)  11 - 17 years   \n",
       "2       Bachelor’s degree (B.A., B.S., B.Eng., etc.)  11 - 17 years   \n",
       "3    Master’s degree (M.A., M.S., M.Eng., MBA, etc.)  11 - 17 years   \n",
       "4    Master’s degree (M.A., M.S., M.Eng., MBA, etc.)   5 - 10 years   \n",
       "\n",
       "                                           LearnCode YearsCode  ...  \\\n",
       "0  Coding Bootcamp;Other online resources (ex: vi...       NaN  ...   \n",
       "1  Other online resources (ex: videos, blogs, etc...         7  ...   \n",
       "2  Other online resources (ex: videos, blogs, etc...       NaN  ...   \n",
       "3                                                NaN       NaN  ...   \n",
       "4                            Friend or family member        17  ...   \n",
       "\n",
       "               Age Gender Trans                Sexuality  \\\n",
       "0  25-34 years old    Man    No  Straight / Heterosexual   \n",
       "1  18-24 years old    Man    No  Straight / Heterosexual   \n",
       "2  18-24 years old    Man    No        Prefer not to say   \n",
       "3  35-44 years old    Man    No  Straight / Heterosexual   \n",
       "4  25-34 years old    Man    No                      NaN   \n",
       "\n",
       "                      Ethnicity                Accessibility  \\\n",
       "0  White or of European descent            None of the above   \n",
       "1  White or of European descent            None of the above   \n",
       "2             Prefer not to say            None of the above   \n",
       "3  White or of European descent  I am deaf / hard of hearing   \n",
       "4  White or of European descent            None of the above   \n",
       "\n",
       "        MentalHealth           SurveyLength                  SurveyEase  \\\n",
       "0  None of the above  Appropriate in length                        Easy   \n",
       "1  None of the above  Appropriate in length                        Easy   \n",
       "2  None of the above  Appropriate in length                        Easy   \n",
       "3                NaN  Appropriate in length  Neither easy nor difficult   \n",
       "4                NaN  Appropriate in length                        Easy   \n",
       "\n",
       "  ConvertedCompYearly  \n",
       "0             62268.0  \n",
       "1                 NaN  \n",
       "2                 NaN  \n",
       "3                 NaN  \n",
       "4                 NaN  \n",
       "\n",
       "[5 rows x 48 columns]"
      ]
     },
     "execution_count": 2,
     "metadata": {},
     "output_type": "execute_result"
    }
   ],
   "source": [
    "df.head()"
   ]
  },
  {
   "cell_type": "code",
   "execution_count": 3,
   "id": "dd1fe49a",
   "metadata": {},
   "outputs": [
    {
     "data": {
      "text/plain": [
       "array(['Slovakia', 'Netherlands', 'Russian Federation', 'Austria',\n",
       "       'United Kingdom of Great Britain and Northern Ireland',\n",
       "       'United States of America', 'Malaysia', 'India', 'Sweden', 'Spain',\n",
       "       'Germany', 'Peru', 'Turkey', 'Canada', 'Singapore', 'Brazil',\n",
       "       'France', 'Switzerland', 'Malawi', 'Israel', 'Poland', 'Ukraine',\n",
       "       'Viet Nam', 'Portugal', 'Italy', 'Bulgaria', 'Greece',\n",
       "       'Iran, Islamic Republic of...', 'Ireland', 'Georgia', 'Uzbekistan',\n",
       "       'Hungary', 'Belgium', 'Pakistan', 'Nigeria', 'Albania',\n",
       "       'Bangladesh', 'Romania', 'Sri Lanka', 'Lithuania', 'Slovenia',\n",
       "       'Croatia', 'Czech Republic', 'Denmark', 'Armenia', 'Lebanon',\n",
       "       'Bahrain', 'Egypt', 'Nepal', 'Colombia', 'Indonesia', 'Australia',\n",
       "       'Turkmenistan', 'Morocco', 'Chile', 'Serbia', 'New Zealand',\n",
       "       'Estonia', 'Tunisia', 'Finland', 'Hong Kong (S.A.R.)',\n",
       "       'United Arab Emirates', 'Argentina', 'Azerbaijan', 'Philippines',\n",
       "       'Costa Rica', 'South Africa', 'Kosovo', 'Japan',\n",
       "       'United Republic of Tanzania', 'Bolivia', 'Bosnia and Herzegovina',\n",
       "       'Uruguay', 'South Korea', 'China', 'Norway', 'Belarus',\n",
       "       'Luxembourg', 'Malta', 'Ethiopia', 'Madagascar', 'Kenya',\n",
       "       'The former Yugoslav Republic of Macedonia', 'Botswana', 'Algeria',\n",
       "       'Senegal', 'Mexico', 'Cyprus',\n",
       "       'Venezuela, Bolivarian Republic of...', 'Cameroon', 'Jordan',\n",
       "       'Dominican Republic', 'Ecuador', 'Syrian Arab Republic', 'Zambia',\n",
       "       'Taiwan', 'Nomadic', 'Latvia', 'Guatemala', 'Paraguay', 'Iceland',\n",
       "       'Haiti', 'Republic of Moldova', 'Kazakhstan',\n",
       "       'Libyan Arab Jamahiriya', 'Afghanistan', 'Panama', \"Côte d'Ivoire\",\n",
       "       'Cuba', 'Myanmar', 'Tajikistan',\n",
       "       \"Lao People's Democratic Republic\", 'Yemen', 'Thailand', 'Qatar',\n",
       "       'Democratic Republic of the Congo', 'Iraq', 'Mozambique',\n",
       "       'Somalia', 'Andorra', 'Kyrgyzstan', 'Kuwait', 'Saudi Arabia',\n",
       "       'Mauritania', 'Honduras', 'Angola', 'Oman', 'Swaziland', 'Sudan',\n",
       "       'Guyana', 'Chad', 'El Salvador', 'Benin', 'North Korea',\n",
       "       'Nicaragua', 'Dominica', 'Trinidad and Tobago', 'Ghana',\n",
       "       'Barbados', 'Burundi', 'Micronesia, Federated States of...',\n",
       "       'Zimbabwe', 'Mauritius', 'Gambia', 'Bahamas',\n",
       "       'Congo, Republic of the...', 'Suriname', 'Djibouti',\n",
       "       'Republic of Korea', 'Bhutan', 'Cambodia', 'Uganda', 'Rwanda',\n",
       "       'Montenegro', 'Maldives', 'Saint Kitts and Nevis', 'Monaco',\n",
       "       'Togo', 'Isle of Man', 'Jamaica', 'Belize', 'Palestine',\n",
       "       'Mongolia', 'Burkina Faso', 'Liechtenstein', 'Saint Lucia',\n",
       "       'Cape Verde', 'Brunei Darussalam', 'Namibia',\n",
       "       'Central African Republic', 'Lesotho', 'Guinea', 'Liberia', 'Fiji',\n",
       "       'Niger', 'Sierra Leone', 'San Marino',\n",
       "       'Saint Vincent and the Grenadines', 'Tuvalu', 'Papua New Guinea',\n",
       "       'Mali'], dtype=object)"
      ]
     },
     "execution_count": 3,
     "metadata": {},
     "output_type": "execute_result"
    }
   ],
   "source": [
    "df.Country.unique()"
   ]
  },
  {
   "cell_type": "code",
   "execution_count": 4,
   "id": "04d30759",
   "metadata": {},
   "outputs": [],
   "source": [
    "df = df[df['Country'].isin(['Slovakia', 'Netherlands','Russian Federation', 'Austria', 'United Kingdom of Great Britain and Northern Ireland',\n",
    "                           'Sweden','Spain','Germany','France', 'Switzerland', 'Poland', 'Ukraine','Portugal', 'Italy', 'Bulgaria', 'Greece',\n",
    "                           'Ireland','Hungary', 'Belgium','Albania','Romania','Lithuania', 'Slovenia','Croatia','Czech Republic','Denmark',\n",
    "                            'Serbia','Estonia','Finland','Bosnia and Herzegovina','Norway','Belarus','Luxembourg','Malta','Cyprus',\n",
    "                            'Latvia','Iceland','Republic of Moldova','Montenegro','Monaco','Liechtenstein'])]"
   ]
  },
  {
   "cell_type": "code",
   "execution_count": 5,
   "id": "bc8d63d8",
   "metadata": {
    "scrolled": true
   },
   "outputs": [
    {
     "data": {
      "text/html": [
       "<div>\n",
       "<style scoped>\n",
       "    .dataframe tbody tr th:only-of-type {\n",
       "        vertical-align: middle;\n",
       "    }\n",
       "\n",
       "    .dataframe tbody tr th {\n",
       "        vertical-align: top;\n",
       "    }\n",
       "\n",
       "    .dataframe thead th {\n",
       "        text-align: right;\n",
       "    }\n",
       "</style>\n",
       "<table border=\"1\" class=\"dataframe\">\n",
       "  <thead>\n",
       "    <tr style=\"text-align: right;\">\n",
       "      <th></th>\n",
       "      <th>Country</th>\n",
       "      <th>EdLevel</th>\n",
       "      <th>YearsCodePro</th>\n",
       "      <th>Employment</th>\n",
       "      <th>Salary</th>\n",
       "    </tr>\n",
       "  </thead>\n",
       "  <tbody>\n",
       "    <tr>\n",
       "      <th>0</th>\n",
       "      <td>Slovakia</td>\n",
       "      <td>Secondary school (e.g. American high school, G...</td>\n",
       "      <td>NaN</td>\n",
       "      <td>Independent contractor, freelancer, or self-em...</td>\n",
       "      <td>62268.0</td>\n",
       "    </tr>\n",
       "    <tr>\n",
       "      <th>1</th>\n",
       "      <td>Netherlands</td>\n",
       "      <td>Bachelor’s degree (B.A., B.S., B.Eng., etc.)</td>\n",
       "      <td>NaN</td>\n",
       "      <td>Student, full-time</td>\n",
       "      <td>NaN</td>\n",
       "    </tr>\n",
       "    <tr>\n",
       "      <th>2</th>\n",
       "      <td>Russian Federation</td>\n",
       "      <td>Bachelor’s degree (B.A., B.S., B.Eng., etc.)</td>\n",
       "      <td>NaN</td>\n",
       "      <td>Student, full-time</td>\n",
       "      <td>NaN</td>\n",
       "    </tr>\n",
       "    <tr>\n",
       "      <th>3</th>\n",
       "      <td>Austria</td>\n",
       "      <td>Master’s degree (M.A., M.S., M.Eng., MBA, etc.)</td>\n",
       "      <td>NaN</td>\n",
       "      <td>Employed full-time</td>\n",
       "      <td>NaN</td>\n",
       "    </tr>\n",
       "    <tr>\n",
       "      <th>4</th>\n",
       "      <td>United Kingdom of Great Britain and Northern I...</td>\n",
       "      <td>Master’s degree (M.A., M.S., M.Eng., MBA, etc.)</td>\n",
       "      <td>10</td>\n",
       "      <td>Independent contractor, freelancer, or self-em...</td>\n",
       "      <td>NaN</td>\n",
       "    </tr>\n",
       "  </tbody>\n",
       "</table>\n",
       "</div>"
      ],
      "text/plain": [
       "                                             Country  \\\n",
       "0                                           Slovakia   \n",
       "1                                        Netherlands   \n",
       "2                                 Russian Federation   \n",
       "3                                            Austria   \n",
       "4  United Kingdom of Great Britain and Northern I...   \n",
       "\n",
       "                                             EdLevel YearsCodePro  \\\n",
       "0  Secondary school (e.g. American high school, G...          NaN   \n",
       "1       Bachelor’s degree (B.A., B.S., B.Eng., etc.)          NaN   \n",
       "2       Bachelor’s degree (B.A., B.S., B.Eng., etc.)          NaN   \n",
       "3    Master’s degree (M.A., M.S., M.Eng., MBA, etc.)          NaN   \n",
       "4    Master’s degree (M.A., M.S., M.Eng., MBA, etc.)           10   \n",
       "\n",
       "                                          Employment   Salary  \n",
       "0  Independent contractor, freelancer, or self-em...  62268.0  \n",
       "1                                 Student, full-time      NaN  \n",
       "2                                 Student, full-time      NaN  \n",
       "3                                 Employed full-time      NaN  \n",
       "4  Independent contractor, freelancer, or self-em...      NaN  "
      ]
     },
     "execution_count": 5,
     "metadata": {},
     "output_type": "execute_result"
    }
   ],
   "source": [
    "df = df[[\"Country\", \"EdLevel\", \"YearsCodePro\", \"Employment\", \"ConvertedCompYearly\"]]\n",
    "df = df.rename({\"ConvertedCompYearly\": \"Salary\"}, axis=1)\n",
    "df.head()"
   ]
  },
  {
   "cell_type": "code",
   "execution_count": 6,
   "id": "c3f00cdf",
   "metadata": {},
   "outputs": [],
   "source": [
    "#df1 = df.loc[df['Country']=='Greece']"
   ]
  },
  {
   "cell_type": "code",
   "execution_count": 7,
   "id": "9a1e3f3e",
   "metadata": {},
   "outputs": [],
   "source": [
    "#df1.Country.unique()"
   ]
  },
  {
   "cell_type": "code",
   "execution_count": 8,
   "id": "b82e01d3",
   "metadata": {
    "scrolled": true
   },
   "outputs": [
    {
     "data": {
      "text/plain": [
       "array(['Slovakia', 'Netherlands', 'Russian Federation', 'Austria',\n",
       "       'United Kingdom of Great Britain and Northern Ireland', 'Sweden',\n",
       "       'Spain', 'Germany', 'France', 'Switzerland', 'Poland', 'Ukraine',\n",
       "       'Portugal', 'Italy', 'Bulgaria', 'Greece', 'Ireland', 'Hungary',\n",
       "       'Belgium', 'Albania', 'Romania', 'Lithuania', 'Slovenia',\n",
       "       'Croatia', 'Czech Republic', 'Denmark', 'Serbia', 'Estonia',\n",
       "       'Finland', 'Bosnia and Herzegovina', 'Norway', 'Belarus',\n",
       "       'Luxembourg', 'Malta', 'Cyprus', 'Latvia', 'Iceland',\n",
       "       'Republic of Moldova', 'Montenegro', 'Monaco', 'Liechtenstein'],\n",
       "      dtype=object)"
      ]
     },
     "execution_count": 8,
     "metadata": {},
     "output_type": "execute_result"
    }
   ],
   "source": [
    "df.Country.unique()"
   ]
  },
  {
   "cell_type": "code",
   "execution_count": 9,
   "id": "5c39c3fc",
   "metadata": {},
   "outputs": [],
   "source": [
    "df = df[df[\"Employment\"]== \"Employed full-time\"]"
   ]
  },
  {
   "cell_type": "code",
   "execution_count": 10,
   "id": "1609be51",
   "metadata": {},
   "outputs": [
    {
     "data": {
      "text/html": [
       "<div>\n",
       "<style scoped>\n",
       "    .dataframe tbody tr th:only-of-type {\n",
       "        vertical-align: middle;\n",
       "    }\n",
       "\n",
       "    .dataframe tbody tr th {\n",
       "        vertical-align: top;\n",
       "    }\n",
       "\n",
       "    .dataframe thead th {\n",
       "        text-align: right;\n",
       "    }\n",
       "</style>\n",
       "<table border=\"1\" class=\"dataframe\">\n",
       "  <thead>\n",
       "    <tr style=\"text-align: right;\">\n",
       "      <th></th>\n",
       "      <th>Country</th>\n",
       "      <th>EdLevel</th>\n",
       "      <th>YearsCodePro</th>\n",
       "      <th>Employment</th>\n",
       "      <th>Salary</th>\n",
       "    </tr>\n",
       "  </thead>\n",
       "  <tbody>\n",
       "    <tr>\n",
       "      <th>3</th>\n",
       "      <td>Austria</td>\n",
       "      <td>Master’s degree (M.A., M.S., M.Eng., MBA, etc.)</td>\n",
       "      <td>NaN</td>\n",
       "      <td>Employed full-time</td>\n",
       "      <td>NaN</td>\n",
       "    </tr>\n",
       "    <tr>\n",
       "      <th>9</th>\n",
       "      <td>Sweden</td>\n",
       "      <td>Master’s degree (M.A., M.S., M.Eng., MBA, etc.)</td>\n",
       "      <td>4</td>\n",
       "      <td>Employed full-time</td>\n",
       "      <td>51552.0</td>\n",
       "    </tr>\n",
       "    <tr>\n",
       "      <th>10</th>\n",
       "      <td>United Kingdom of Great Britain and Northern I...</td>\n",
       "      <td>Bachelor’s degree (B.A., B.S., B.Eng., etc.)</td>\n",
       "      <td>10</td>\n",
       "      <td>Employed full-time</td>\n",
       "      <td>NaN</td>\n",
       "    </tr>\n",
       "    <tr>\n",
       "      <th>11</th>\n",
       "      <td>Spain</td>\n",
       "      <td>Bachelor’s degree (B.A., B.S., B.Eng., etc.)</td>\n",
       "      <td>5</td>\n",
       "      <td>Employed full-time</td>\n",
       "      <td>46482.0</td>\n",
       "    </tr>\n",
       "    <tr>\n",
       "      <th>12</th>\n",
       "      <td>Germany</td>\n",
       "      <td>Master’s degree (M.A., M.S., M.Eng., MBA, etc.)</td>\n",
       "      <td>6</td>\n",
       "      <td>Employed full-time</td>\n",
       "      <td>77290.0</td>\n",
       "    </tr>\n",
       "    <tr>\n",
       "      <th>...</th>\n",
       "      <td>...</td>\n",
       "      <td>...</td>\n",
       "      <td>...</td>\n",
       "      <td>...</td>\n",
       "      <td>...</td>\n",
       "    </tr>\n",
       "    <tr>\n",
       "      <th>83415</th>\n",
       "      <td>Germany</td>\n",
       "      <td>Master’s degree (M.A., M.S., M.Eng., MBA, etc.)</td>\n",
       "      <td>22</td>\n",
       "      <td>Employed full-time</td>\n",
       "      <td>70.0</td>\n",
       "    </tr>\n",
       "    <tr>\n",
       "      <th>83419</th>\n",
       "      <td>Austria</td>\n",
       "      <td>Master’s degree (M.A., M.S., M.Eng., MBA, etc.)</td>\n",
       "      <td>13</td>\n",
       "      <td>Employed full-time</td>\n",
       "      <td>83236.0</td>\n",
       "    </tr>\n",
       "    <tr>\n",
       "      <th>83420</th>\n",
       "      <td>France</td>\n",
       "      <td>Master’s degree (M.A., M.S., M.Eng., MBA, etc.)</td>\n",
       "      <td>4</td>\n",
       "      <td>Employed full-time</td>\n",
       "      <td>35672.0</td>\n",
       "    </tr>\n",
       "    <tr>\n",
       "      <th>83424</th>\n",
       "      <td>Germany</td>\n",
       "      <td>Bachelor’s degree (B.A., B.S., B.Eng., etc.)</td>\n",
       "      <td>12</td>\n",
       "      <td>Employed full-time</td>\n",
       "      <td>129718.0</td>\n",
       "    </tr>\n",
       "    <tr>\n",
       "      <th>83425</th>\n",
       "      <td>Finland</td>\n",
       "      <td>Secondary school (e.g. American high school, G...</td>\n",
       "      <td>3</td>\n",
       "      <td>Employed full-time</td>\n",
       "      <td>19452.0</td>\n",
       "    </tr>\n",
       "  </tbody>\n",
       "</table>\n",
       "<p>21511 rows × 5 columns</p>\n",
       "</div>"
      ],
      "text/plain": [
       "                                                 Country  \\\n",
       "3                                                Austria   \n",
       "9                                                 Sweden   \n",
       "10     United Kingdom of Great Britain and Northern I...   \n",
       "11                                                 Spain   \n",
       "12                                               Germany   \n",
       "...                                                  ...   \n",
       "83415                                            Germany   \n",
       "83419                                            Austria   \n",
       "83420                                             France   \n",
       "83424                                            Germany   \n",
       "83425                                            Finland   \n",
       "\n",
       "                                                 EdLevel YearsCodePro  \\\n",
       "3        Master’s degree (M.A., M.S., M.Eng., MBA, etc.)          NaN   \n",
       "9        Master’s degree (M.A., M.S., M.Eng., MBA, etc.)            4   \n",
       "10          Bachelor’s degree (B.A., B.S., B.Eng., etc.)           10   \n",
       "11          Bachelor’s degree (B.A., B.S., B.Eng., etc.)            5   \n",
       "12       Master’s degree (M.A., M.S., M.Eng., MBA, etc.)            6   \n",
       "...                                                  ...          ...   \n",
       "83415    Master’s degree (M.A., M.S., M.Eng., MBA, etc.)           22   \n",
       "83419    Master’s degree (M.A., M.S., M.Eng., MBA, etc.)           13   \n",
       "83420    Master’s degree (M.A., M.S., M.Eng., MBA, etc.)            4   \n",
       "83424       Bachelor’s degree (B.A., B.S., B.Eng., etc.)           12   \n",
       "83425  Secondary school (e.g. American high school, G...            3   \n",
       "\n",
       "               Employment    Salary  \n",
       "3      Employed full-time       NaN  \n",
       "9      Employed full-time   51552.0  \n",
       "10     Employed full-time       NaN  \n",
       "11     Employed full-time   46482.0  \n",
       "12     Employed full-time   77290.0  \n",
       "...                   ...       ...  \n",
       "83415  Employed full-time      70.0  \n",
       "83419  Employed full-time   83236.0  \n",
       "83420  Employed full-time   35672.0  \n",
       "83424  Employed full-time  129718.0  \n",
       "83425  Employed full-time   19452.0  \n",
       "\n",
       "[21511 rows x 5 columns]"
      ]
     },
     "execution_count": 10,
     "metadata": {},
     "output_type": "execute_result"
    }
   ],
   "source": [
    "df"
   ]
  },
  {
   "cell_type": "code",
   "execution_count": 11,
   "id": "c06b1f5e",
   "metadata": {},
   "outputs": [],
   "source": [
    "df= df.dropna()"
   ]
  },
  {
   "cell_type": "code",
   "execution_count": 12,
   "id": "00cf8f1a",
   "metadata": {},
   "outputs": [
    {
     "data": {
      "text/plain": [
       "Country         0\n",
       "EdLevel         0\n",
       "YearsCodePro    0\n",
       "Employment      0\n",
       "Salary          0\n",
       "dtype: int64"
      ]
     },
     "execution_count": 12,
     "metadata": {},
     "output_type": "execute_result"
    }
   ],
   "source": [
    "df.isnull().sum()"
   ]
  },
  {
   "cell_type": "code",
   "execution_count": 13,
   "id": "c93deca2",
   "metadata": {},
   "outputs": [
    {
     "data": {
      "text/html": [
       "<div>\n",
       "<style scoped>\n",
       "    .dataframe tbody tr th:only-of-type {\n",
       "        vertical-align: middle;\n",
       "    }\n",
       "\n",
       "    .dataframe tbody tr th {\n",
       "        vertical-align: top;\n",
       "    }\n",
       "\n",
       "    .dataframe thead th {\n",
       "        text-align: right;\n",
       "    }\n",
       "</style>\n",
       "<table border=\"1\" class=\"dataframe\">\n",
       "  <thead>\n",
       "    <tr style=\"text-align: right;\">\n",
       "      <th></th>\n",
       "      <th>Country</th>\n",
       "      <th>EdLevel</th>\n",
       "      <th>YearsCodePro</th>\n",
       "      <th>Employment</th>\n",
       "      <th>Salary</th>\n",
       "    </tr>\n",
       "  </thead>\n",
       "  <tbody>\n",
       "    <tr>\n",
       "      <th>9</th>\n",
       "      <td>Sweden</td>\n",
       "      <td>Master’s degree (M.A., M.S., M.Eng., MBA, etc.)</td>\n",
       "      <td>4</td>\n",
       "      <td>Employed full-time</td>\n",
       "      <td>51552.0</td>\n",
       "    </tr>\n",
       "    <tr>\n",
       "      <th>11</th>\n",
       "      <td>Spain</td>\n",
       "      <td>Bachelor’s degree (B.A., B.S., B.Eng., etc.)</td>\n",
       "      <td>5</td>\n",
       "      <td>Employed full-time</td>\n",
       "      <td>46482.0</td>\n",
       "    </tr>\n",
       "    <tr>\n",
       "      <th>12</th>\n",
       "      <td>Germany</td>\n",
       "      <td>Master’s degree (M.A., M.S., M.Eng., MBA, etc.)</td>\n",
       "      <td>6</td>\n",
       "      <td>Employed full-time</td>\n",
       "      <td>77290.0</td>\n",
       "    </tr>\n",
       "    <tr>\n",
       "      <th>23</th>\n",
       "      <td>France</td>\n",
       "      <td>Master’s degree (M.A., M.S., M.Eng., MBA, etc.)</td>\n",
       "      <td>2</td>\n",
       "      <td>Employed full-time</td>\n",
       "      <td>38915.0</td>\n",
       "    </tr>\n",
       "    <tr>\n",
       "      <th>24</th>\n",
       "      <td>Germany</td>\n",
       "      <td>Master’s degree (M.A., M.S., M.Eng., MBA, etc.)</td>\n",
       "      <td>18</td>\n",
       "      <td>Employed full-time</td>\n",
       "      <td>77831.0</td>\n",
       "    </tr>\n",
       "    <tr>\n",
       "      <th>...</th>\n",
       "      <td>...</td>\n",
       "      <td>...</td>\n",
       "      <td>...</td>\n",
       "      <td>...</td>\n",
       "      <td>...</td>\n",
       "    </tr>\n",
       "    <tr>\n",
       "      <th>83415</th>\n",
       "      <td>Germany</td>\n",
       "      <td>Master’s degree (M.A., M.S., M.Eng., MBA, etc.)</td>\n",
       "      <td>22</td>\n",
       "      <td>Employed full-time</td>\n",
       "      <td>70.0</td>\n",
       "    </tr>\n",
       "    <tr>\n",
       "      <th>83419</th>\n",
       "      <td>Austria</td>\n",
       "      <td>Master’s degree (M.A., M.S., M.Eng., MBA, etc.)</td>\n",
       "      <td>13</td>\n",
       "      <td>Employed full-time</td>\n",
       "      <td>83236.0</td>\n",
       "    </tr>\n",
       "    <tr>\n",
       "      <th>83420</th>\n",
       "      <td>France</td>\n",
       "      <td>Master’s degree (M.A., M.S., M.Eng., MBA, etc.)</td>\n",
       "      <td>4</td>\n",
       "      <td>Employed full-time</td>\n",
       "      <td>35672.0</td>\n",
       "    </tr>\n",
       "    <tr>\n",
       "      <th>83424</th>\n",
       "      <td>Germany</td>\n",
       "      <td>Bachelor’s degree (B.A., B.S., B.Eng., etc.)</td>\n",
       "      <td>12</td>\n",
       "      <td>Employed full-time</td>\n",
       "      <td>129718.0</td>\n",
       "    </tr>\n",
       "    <tr>\n",
       "      <th>83425</th>\n",
       "      <td>Finland</td>\n",
       "      <td>Secondary school (e.g. American high school, G...</td>\n",
       "      <td>3</td>\n",
       "      <td>Employed full-time</td>\n",
       "      <td>19452.0</td>\n",
       "    </tr>\n",
       "  </tbody>\n",
       "</table>\n",
       "<p>16833 rows × 5 columns</p>\n",
       "</div>"
      ],
      "text/plain": [
       "       Country                                            EdLevel  \\\n",
       "9       Sweden    Master’s degree (M.A., M.S., M.Eng., MBA, etc.)   \n",
       "11       Spain       Bachelor’s degree (B.A., B.S., B.Eng., etc.)   \n",
       "12     Germany    Master’s degree (M.A., M.S., M.Eng., MBA, etc.)   \n",
       "23      France    Master’s degree (M.A., M.S., M.Eng., MBA, etc.)   \n",
       "24     Germany    Master’s degree (M.A., M.S., M.Eng., MBA, etc.)   \n",
       "...        ...                                                ...   \n",
       "83415  Germany    Master’s degree (M.A., M.S., M.Eng., MBA, etc.)   \n",
       "83419  Austria    Master’s degree (M.A., M.S., M.Eng., MBA, etc.)   \n",
       "83420   France    Master’s degree (M.A., M.S., M.Eng., MBA, etc.)   \n",
       "83424  Germany       Bachelor’s degree (B.A., B.S., B.Eng., etc.)   \n",
       "83425  Finland  Secondary school (e.g. American high school, G...   \n",
       "\n",
       "      YearsCodePro          Employment    Salary  \n",
       "9                4  Employed full-time   51552.0  \n",
       "11               5  Employed full-time   46482.0  \n",
       "12               6  Employed full-time   77290.0  \n",
       "23               2  Employed full-time   38915.0  \n",
       "24              18  Employed full-time   77831.0  \n",
       "...            ...                 ...       ...  \n",
       "83415           22  Employed full-time      70.0  \n",
       "83419           13  Employed full-time   83236.0  \n",
       "83420            4  Employed full-time   35672.0  \n",
       "83424           12  Employed full-time  129718.0  \n",
       "83425            3  Employed full-time   19452.0  \n",
       "\n",
       "[16833 rows x 5 columns]"
      ]
     },
     "execution_count": 13,
     "metadata": {},
     "output_type": "execute_result"
    }
   ],
   "source": [
    "df"
   ]
  },
  {
   "cell_type": "code",
   "execution_count": 14,
   "id": "01b98b2d",
   "metadata": {},
   "outputs": [
    {
     "data": {
      "text/html": [
       "<div>\n",
       "<style scoped>\n",
       "    .dataframe tbody tr th:only-of-type {\n",
       "        vertical-align: middle;\n",
       "    }\n",
       "\n",
       "    .dataframe tbody tr th {\n",
       "        vertical-align: top;\n",
       "    }\n",
       "\n",
       "    .dataframe thead th {\n",
       "        text-align: right;\n",
       "    }\n",
       "</style>\n",
       "<table border=\"1\" class=\"dataframe\">\n",
       "  <thead>\n",
       "    <tr style=\"text-align: right;\">\n",
       "      <th></th>\n",
       "      <th>Salary</th>\n",
       "    </tr>\n",
       "  </thead>\n",
       "  <tbody>\n",
       "    <tr>\n",
       "      <th>count</th>\n",
       "      <td>1.683300e+04</td>\n",
       "    </tr>\n",
       "    <tr>\n",
       "      <th>mean</th>\n",
       "      <td>9.089395e+04</td>\n",
       "    </tr>\n",
       "    <tr>\n",
       "      <th>std</th>\n",
       "      <td>2.219766e+05</td>\n",
       "    </tr>\n",
       "    <tr>\n",
       "      <th>min</th>\n",
       "      <td>2.300000e+01</td>\n",
       "    </tr>\n",
       "    <tr>\n",
       "      <th>25%</th>\n",
       "      <td>3.675300e+04</td>\n",
       "    </tr>\n",
       "    <tr>\n",
       "      <th>50%</th>\n",
       "      <td>5.404900e+04</td>\n",
       "    </tr>\n",
       "    <tr>\n",
       "      <th>75%</th>\n",
       "      <td>7.755600e+04</td>\n",
       "    </tr>\n",
       "    <tr>\n",
       "      <th>max</th>\n",
       "      <td>1.441163e+07</td>\n",
       "    </tr>\n",
       "  </tbody>\n",
       "</table>\n",
       "</div>"
      ],
      "text/plain": [
       "             Salary\n",
       "count  1.683300e+04\n",
       "mean   9.089395e+04\n",
       "std    2.219766e+05\n",
       "min    2.300000e+01\n",
       "25%    3.675300e+04\n",
       "50%    5.404900e+04\n",
       "75%    7.755600e+04\n",
       "max    1.441163e+07"
      ]
     },
     "execution_count": 14,
     "metadata": {},
     "output_type": "execute_result"
    }
   ],
   "source": [
    "df.describe()"
   ]
  },
  {
   "cell_type": "code",
   "execution_count": 15,
   "id": "14d0920e",
   "metadata": {},
   "outputs": [
    {
     "data": {
      "text/plain": [
       "23.0"
      ]
     },
     "execution_count": 15,
     "metadata": {},
     "output_type": "execute_result"
    }
   ],
   "source": [
    "df.Salary.min()"
   ]
  },
  {
   "cell_type": "code",
   "execution_count": 16,
   "id": "51149c67",
   "metadata": {},
   "outputs": [
    {
     "data": {
      "text/plain": [
       "14411628.0"
      ]
     },
     "execution_count": 16,
     "metadata": {},
     "output_type": "execute_result"
    }
   ],
   "source": [
    "df.Salary.max()"
   ]
  },
  {
   "cell_type": "code",
   "execution_count": 17,
   "id": "76001d2a",
   "metadata": {},
   "outputs": [],
   "source": [
    "df = df.drop(\"Employment\", axis=1)"
   ]
  },
  {
   "cell_type": "code",
   "execution_count": 18,
   "id": "a670d4eb",
   "metadata": {},
   "outputs": [
    {
     "data": {
      "text/html": [
       "<div>\n",
       "<style scoped>\n",
       "    .dataframe tbody tr th:only-of-type {\n",
       "        vertical-align: middle;\n",
       "    }\n",
       "\n",
       "    .dataframe tbody tr th {\n",
       "        vertical-align: top;\n",
       "    }\n",
       "\n",
       "    .dataframe thead th {\n",
       "        text-align: right;\n",
       "    }\n",
       "</style>\n",
       "<table border=\"1\" class=\"dataframe\">\n",
       "  <thead>\n",
       "    <tr style=\"text-align: right;\">\n",
       "      <th></th>\n",
       "      <th>Country</th>\n",
       "      <th>EdLevel</th>\n",
       "      <th>YearsCodePro</th>\n",
       "      <th>Salary</th>\n",
       "    </tr>\n",
       "  </thead>\n",
       "  <tbody>\n",
       "    <tr>\n",
       "      <th>9</th>\n",
       "      <td>Sweden</td>\n",
       "      <td>Master’s degree (M.A., M.S., M.Eng., MBA, etc.)</td>\n",
       "      <td>4</td>\n",
       "      <td>51552.0</td>\n",
       "    </tr>\n",
       "    <tr>\n",
       "      <th>11</th>\n",
       "      <td>Spain</td>\n",
       "      <td>Bachelor’s degree (B.A., B.S., B.Eng., etc.)</td>\n",
       "      <td>5</td>\n",
       "      <td>46482.0</td>\n",
       "    </tr>\n",
       "    <tr>\n",
       "      <th>12</th>\n",
       "      <td>Germany</td>\n",
       "      <td>Master’s degree (M.A., M.S., M.Eng., MBA, etc.)</td>\n",
       "      <td>6</td>\n",
       "      <td>77290.0</td>\n",
       "    </tr>\n",
       "    <tr>\n",
       "      <th>23</th>\n",
       "      <td>France</td>\n",
       "      <td>Master’s degree (M.A., M.S., M.Eng., MBA, etc.)</td>\n",
       "      <td>2</td>\n",
       "      <td>38915.0</td>\n",
       "    </tr>\n",
       "    <tr>\n",
       "      <th>24</th>\n",
       "      <td>Germany</td>\n",
       "      <td>Master’s degree (M.A., M.S., M.Eng., MBA, etc.)</td>\n",
       "      <td>18</td>\n",
       "      <td>77831.0</td>\n",
       "    </tr>\n",
       "    <tr>\n",
       "      <th>...</th>\n",
       "      <td>...</td>\n",
       "      <td>...</td>\n",
       "      <td>...</td>\n",
       "      <td>...</td>\n",
       "    </tr>\n",
       "    <tr>\n",
       "      <th>83415</th>\n",
       "      <td>Germany</td>\n",
       "      <td>Master’s degree (M.A., M.S., M.Eng., MBA, etc.)</td>\n",
       "      <td>22</td>\n",
       "      <td>70.0</td>\n",
       "    </tr>\n",
       "    <tr>\n",
       "      <th>83419</th>\n",
       "      <td>Austria</td>\n",
       "      <td>Master’s degree (M.A., M.S., M.Eng., MBA, etc.)</td>\n",
       "      <td>13</td>\n",
       "      <td>83236.0</td>\n",
       "    </tr>\n",
       "    <tr>\n",
       "      <th>83420</th>\n",
       "      <td>France</td>\n",
       "      <td>Master’s degree (M.A., M.S., M.Eng., MBA, etc.)</td>\n",
       "      <td>4</td>\n",
       "      <td>35672.0</td>\n",
       "    </tr>\n",
       "    <tr>\n",
       "      <th>83424</th>\n",
       "      <td>Germany</td>\n",
       "      <td>Bachelor’s degree (B.A., B.S., B.Eng., etc.)</td>\n",
       "      <td>12</td>\n",
       "      <td>129718.0</td>\n",
       "    </tr>\n",
       "    <tr>\n",
       "      <th>83425</th>\n",
       "      <td>Finland</td>\n",
       "      <td>Secondary school (e.g. American high school, G...</td>\n",
       "      <td>3</td>\n",
       "      <td>19452.0</td>\n",
       "    </tr>\n",
       "  </tbody>\n",
       "</table>\n",
       "<p>16833 rows × 4 columns</p>\n",
       "</div>"
      ],
      "text/plain": [
       "       Country                                            EdLevel  \\\n",
       "9       Sweden    Master’s degree (M.A., M.S., M.Eng., MBA, etc.)   \n",
       "11       Spain       Bachelor’s degree (B.A., B.S., B.Eng., etc.)   \n",
       "12     Germany    Master’s degree (M.A., M.S., M.Eng., MBA, etc.)   \n",
       "23      France    Master’s degree (M.A., M.S., M.Eng., MBA, etc.)   \n",
       "24     Germany    Master’s degree (M.A., M.S., M.Eng., MBA, etc.)   \n",
       "...        ...                                                ...   \n",
       "83415  Germany    Master’s degree (M.A., M.S., M.Eng., MBA, etc.)   \n",
       "83419  Austria    Master’s degree (M.A., M.S., M.Eng., MBA, etc.)   \n",
       "83420   France    Master’s degree (M.A., M.S., M.Eng., MBA, etc.)   \n",
       "83424  Germany       Bachelor’s degree (B.A., B.S., B.Eng., etc.)   \n",
       "83425  Finland  Secondary school (e.g. American high school, G...   \n",
       "\n",
       "      YearsCodePro    Salary  \n",
       "9                4   51552.0  \n",
       "11               5   46482.0  \n",
       "12               6   77290.0  \n",
       "23               2   38915.0  \n",
       "24              18   77831.0  \n",
       "...            ...       ...  \n",
       "83415           22      70.0  \n",
       "83419           13   83236.0  \n",
       "83420            4   35672.0  \n",
       "83424           12  129718.0  \n",
       "83425            3   19452.0  \n",
       "\n",
       "[16833 rows x 4 columns]"
      ]
     },
     "execution_count": 18,
     "metadata": {},
     "output_type": "execute_result"
    }
   ],
   "source": [
    "df"
   ]
  },
  {
   "cell_type": "code",
   "execution_count": 19,
   "id": "748f77fd",
   "metadata": {
    "scrolled": true
   },
   "outputs": [
    {
     "data": {
      "text/plain": [
       "Germany                                                 2753\n",
       "United Kingdom of Great Britain and Northern Ireland    2604\n",
       "France                                                  1396\n",
       "Spain                                                    890\n",
       "Netherlands                                              835\n",
       "Poland                                                   775\n",
       "Italy                                                    756\n",
       "Russian Federation                                       741\n",
       "Sweden                                                   735\n",
       "Switzerland                                              438\n",
       "Norway                                                   402\n",
       "Ukraine                                                  381\n",
       "Denmark                                                  347\n",
       "Belgium                                                  346\n",
       "Finland                                                  337\n",
       "Austria                                                  324\n",
       "Czech Republic                                           298\n",
       "Portugal                                                 283\n",
       "Romania                                                  271\n",
       "Greece                                                   261\n",
       "Bulgaria                                                 220\n",
       "Ireland                                                  215\n",
       "Hungary                                                  214\n",
       "Serbia                                                   139\n",
       "Croatia                                                  118\n",
       "Slovenia                                                 117\n",
       "Lithuania                                                115\n",
       "Slovakia                                                  89\n",
       "Belarus                                                   83\n",
       "Estonia                                                   81\n",
       "Latvia                                                    52\n",
       "Bosnia and Herzegovina                                    51\n",
       "Albania                                                   30\n",
       "Cyprus                                                    26\n",
       "Republic of Moldova                                       25\n",
       "Iceland                                                   25\n",
       "Luxembourg                                                25\n",
       "Malta                                                     24\n",
       "Montenegro                                                10\n",
       "Monaco                                                     1\n",
       "Name: Country, dtype: int64"
      ]
     },
     "execution_count": 19,
     "metadata": {},
     "output_type": "execute_result"
    }
   ],
   "source": [
    "df['Country'].value_counts()"
   ]
  },
  {
   "cell_type": "code",
   "execution_count": 20,
   "id": "99dc5125",
   "metadata": {},
   "outputs": [],
   "source": [
    "df = df[df[\"Salary\"] <=250000]\n",
    "df = df[df[\"Salary\"] >= 10000]"
   ]
  },
  {
   "cell_type": "code",
   "execution_count": 21,
   "id": "dd544c0d",
   "metadata": {},
   "outputs": [
    {
     "data": {
      "image/png": "[encoded data removed]",
      "text/plain": [
       "<Figure size 1080x720 with 1 Axes>"
      ]
     },
     "metadata": {
      "needs_background": "light"
     },
     "output_type": "display_data"
    }
   ],
   "source": [
    "fig, ax = plt.subplots(1,1, figsize=(15,10))\n",
    "df.boxplot('Salary', 'Country', ax=ax)\n",
    "plt.suptitle('Salary vs Country')\n",
    "plt.title('')\n",
    "plt.ylabel('Salary')\n",
    "plt.xticks(rotation=90)\n",
    "plt.show()"
   ]
  },
  {
   "cell_type": "code",
   "execution_count": 22,
   "id": "239ffdd6",
   "metadata": {},
   "outputs": [
    {
     "data": {
      "text/plain": [
       "array(['4', '5', '6', '2', '18', '21', '16', '10', '3', '1', '12', '8',\n",
       "       '14', '26', '11', '25', '7', '22', '15', '13', '9', '20', '24',\n",
       "       '27', '23', '30', '17', 'Less than 1 year', '19', '35', '29', '38',\n",
       "       '33', '32', '36', '40', '34', '28', '42', '41', '39', '31', '37',\n",
       "       '47', '43', 'More than 50 years', '45'], dtype=object)"
      ]
     },
     "execution_count": 22,
     "metadata": {},
     "output_type": "execute_result"
    }
   ],
   "source": [
    "df.YearsCodePro.unique()"
   ]
  },
  {
   "cell_type": "code",
   "execution_count": 23,
   "id": "d0ca1dfb",
   "metadata": {},
   "outputs": [],
   "source": [
    "def experience(x):\n",
    "    if x == 'More than 50 years':\n",
    "        return 50\n",
    "    if x == 'Less than 1 year':\n",
    "        return 0.5\n",
    "    return float(x)\n",
    "\n",
    "df['YearsCodePro'] = df['YearsCodePro'].apply(experience)"
   ]
  },
  {
   "cell_type": "code",
   "execution_count": 24,
   "id": "0558a35c",
   "metadata": {},
   "outputs": [
    {
     "data": {
      "text/plain": [
       "array([ 4. ,  5. ,  6. ,  2. , 18. , 21. , 16. , 10. ,  3. ,  1. , 12. ,\n",
       "        8. , 14. , 26. , 11. , 25. ,  7. , 22. , 15. , 13. ,  9. , 20. ,\n",
       "       24. , 27. , 23. , 30. , 17. ,  0.5, 19. , 35. , 29. , 38. , 33. ,\n",
       "       32. , 36. , 40. , 34. , 28. , 42. , 41. , 39. , 31. , 37. , 47. ,\n",
       "       43. , 50. , 45. ])"
      ]
     },
     "execution_count": 24,
     "metadata": {},
     "output_type": "execute_result"
    }
   ],
   "source": [
    "df.YearsCodePro.unique()"
   ]
  },
  {
   "cell_type": "code",
   "execution_count": 25,
   "id": "7231440c",
   "metadata": {},
   "outputs": [
    {
     "data": {
      "text/plain": [
       "array(['Master’s degree (M.A., M.S., M.Eng., MBA, etc.)',\n",
       "       'Bachelor’s degree (B.A., B.S., B.Eng., etc.)',\n",
       "       'Some college/university study without earning a degree',\n",
       "       'Professional degree (JD, MD, etc.)', 'Primary/elementary school',\n",
       "       'Associate degree (A.A., A.S., etc.)',\n",
       "       'Other doctoral degree (Ph.D., Ed.D., etc.)', 'Something else',\n",
       "       'Secondary school (e.g. American high school, German Realschule or Gymnasium, etc.)'],\n",
       "      dtype=object)"
      ]
     },
     "execution_count": 25,
     "metadata": {},
     "output_type": "execute_result"
    }
   ],
   "source": [
    "df.EdLevel.unique()"
   ]
  },
  {
   "cell_type": "code",
   "execution_count": 26,
   "id": "40cfd686",
   "metadata": {},
   "outputs": [],
   "source": [
    "def education (x):\n",
    "    if 'Bachelor’s degree' in x:\n",
    "        return 'Bachelor’s degree'\n",
    "    if 'Master’s degree' in x:\n",
    "        return 'Master’s degree'\n",
    "    if 'Professional degree' in x or 'Other doctoral degree' in x:\n",
    "        return 'Post Grad'\n",
    "    return 'Less than a Bachelors'\n",
    "\n",
    "df[\"EdLevel\"] = df['EdLevel'].apply(education)"
   ]
  },
  {
   "cell_type": "code",
   "execution_count": 27,
   "id": "7144c882",
   "metadata": {},
   "outputs": [
    {
     "data": {
      "text/plain": [
       "array(['Master’s degree', 'Bachelor’s degree', 'Less than a Bachelors',\n",
       "       'Post Grad'], dtype=object)"
      ]
     },
     "execution_count": 27,
     "metadata": {},
     "output_type": "execute_result"
    }
   ],
   "source": [
    "df.EdLevel.unique()"
   ]
  },
  {
   "cell_type": "code",
   "execution_count": 28,
   "id": "bb72f18b",
   "metadata": {
    "scrolled": true
   },
   "outputs": [
    {
     "data": {
      "image/png": "[encoded data removed]",
      "text/plain": [
       "<Figure size 1080x720 with 1 Axes>"
      ]
     },
     "metadata": {
      "needs_background": "light"
     },
     "output_type": "display_data"
    }
   ],
   "source": [
    "plt.subplots(figsize=(15,10))\n",
    "sns.barplot(x='Country', y='Salary', data=df)\n",
    "plt.suptitle('Salary per Country barplot')\n",
    "plt.xticks(rotation=90)\n",
    "plt.show()"
   ]
  },
  {
   "cell_type": "code",
   "execution_count": 29,
   "id": "6079be17",
   "metadata": {
    "scrolled": true
   },
   "outputs": [
    {
     "data": {
      "image/png": "[encoded data removed]",
      "text/plain": [
       "<Figure size 720x576 with 1 Axes>"
      ]
     },
     "metadata": {
      "needs_background": "light"
     },
     "output_type": "display_data"
    }
   ],
   "source": [
    "plt.subplots(figsize=(10,8))\n",
    "sns.barplot(x='EdLevel', y='Salary',  data=df)\n",
    "plt.suptitle('Education vs salary')\n",
    "plt.xticks(rotation=90)\n",
    "plt.show()"
   ]
  },
  {
   "cell_type": "code",
   "execution_count": 30,
   "id": "bca0ee42",
   "metadata": {},
   "outputs": [
    {
     "data": {
      "image/png": "[encoded data removed]",
      "text/plain": [
       "<Figure size 1080x720 with 1 Axes>"
      ]
     },
     "metadata": {
      "needs_background": "light"
     },
     "output_type": "display_data"
    }
   ],
   "source": [
    "plt.subplots(figsize=(15,10))\n",
    "sns.barplot(x='YearsCodePro', y='Salary',  data=df)\n",
    "plt.suptitle('Experience vs Salary')\n",
    "plt.xticks(rotation=90)\n",
    "plt.show()"
   ]
  },
  {
   "cell_type": "code",
   "execution_count": 31,
   "id": "3e2eb89a",
   "metadata": {},
   "outputs": [],
   "source": [
    "from sklearn.preprocessing import LabelEncoder\n",
    "le_ed = LabelEncoder()\n",
    "df['EdLevel'] = le_ed.fit_transform(df['EdLevel'])"
   ]
  },
  {
   "cell_type": "code",
   "execution_count": 32,
   "id": "75c89413",
   "metadata": {},
   "outputs": [
    {
     "data": {
      "text/plain": [
       "array([2, 0, 1, 3])"
      ]
     },
     "execution_count": 32,
     "metadata": {},
     "output_type": "execute_result"
    }
   ],
   "source": [
    "df.EdLevel.unique()"
   ]
  },
  {
   "cell_type": "code",
   "execution_count": 33,
   "id": "281818c9",
   "metadata": {},
   "outputs": [
    {
     "data": {
      "text/plain": [
       "array(['Sweden', 'Spain', 'Germany', 'France', 'Switzerland',\n",
       "       'United Kingdom of Great Britain and Northern Ireland',\n",
       "       'Russian Federation', 'Ukraine', 'Bulgaria', 'Greece', 'Italy',\n",
       "       'Netherlands', 'Poland', 'Hungary', 'Austria', 'Romania',\n",
       "       'Lithuania', 'Slovenia', 'Croatia', 'Ireland', 'Belgium',\n",
       "       'Slovakia', 'Denmark', 'Finland', 'Portugal', 'Norway', 'Serbia',\n",
       "       'Malta', 'Belarus', 'Czech Republic', 'Cyprus', 'Luxembourg',\n",
       "       'Iceland', 'Republic of Moldova', 'Estonia', 'Latvia', 'Albania',\n",
       "       'Bosnia and Herzegovina', 'Monaco', 'Montenegro'], dtype=object)"
      ]
     },
     "execution_count": 33,
     "metadata": {},
     "output_type": "execute_result"
    }
   ],
   "source": [
    "df.Country.unique()"
   ]
  },
  {
   "cell_type": "code",
   "execution_count": 34,
   "id": "b202a17b",
   "metadata": {},
   "outputs": [],
   "source": [
    "le_country = LabelEncoder()\n",
    "df['Country'] = le_country.fit_transform(df['Country'])"
   ]
  },
  {
   "cell_type": "code",
   "execution_count": 35,
   "id": "c36137de",
   "metadata": {},
   "outputs": [
    {
     "data": {
      "text/plain": [
       "array([36, 35, 13, 12, 37, 39, 31, 38,  5, 14, 18, 25, 27, 15,  1, 30, 20,\n",
       "       34,  6, 17,  3, 33,  9, 11, 28, 26, 32, 22,  2,  8,  7, 21, 16, 29,\n",
       "       10, 19,  0,  4, 23, 24])"
      ]
     },
     "execution_count": 35,
     "metadata": {},
     "output_type": "execute_result"
    }
   ],
   "source": [
    "df.Country.unique()"
   ]
  },
  {
   "cell_type": "code",
   "execution_count": 36,
   "id": "7475fbe7",
   "metadata": {},
   "outputs": [],
   "source": [
    "X = df.drop(\"Salary\", axis=1)\n",
    "y = df[\"Salary\"]"
   ]
  },
  {
   "cell_type": "code",
   "execution_count": 37,
   "id": "afd6aa53",
   "metadata": {},
   "outputs": [
    {
     "data": {
      "text/html": [
       "<style>#sk-container-id-1 {color: black;background-color: white;}#sk-container-id-1 pre{padding: 0;}#sk-container-id-1 div.sk-toggleable {background-color: white;}#sk-container-id-1 label.sk-toggleable__label {cursor: pointer;display: block;width: 100%;margin-bottom: 0;padding: 0.3em;box-sizing: border-box;text-align: center;}#sk-container-id-1 label.sk-toggleable__label-arrow:before {content: \"▸\";float: left;margin-right: 0.25em;color: #696969;}#sk-container-id-1 label.sk-toggleable__label-arrow:hover:before {color: black;}#sk-container-id-1 div.sk-estimator:hover label.sk-toggleable__label-arrow:before {color: black;}#sk-container-id-1 div.sk-toggleable__content {max-height: 0;max-width: 0;overflow: hidden;text-align: left;background-color: #f0f8ff;}#sk-container-id-1 div.sk-toggleable__content pre {margin: 0.2em;color: black;border-radius: 0.25em;background-color: #f0f8ff;}#sk-container-id-1 input.sk-toggleable__control:checked~div.sk-toggleable__content {max-height: 200px;max-width: 100%;overflow: auto;}#sk-container-id-1 input.sk-toggleable__control:checked~label.sk-toggleable__label-arrow:before {content: \"▾\";}#sk-container-id-1 div.sk-estimator input.sk-toggleable__control:checked~label.sk-toggleable__label {background-color: #d4ebff;}#sk-container-id-1 div.sk-label input.sk-toggleable__control:checked~label.sk-toggleable__label {background-color: #d4ebff;}#sk-container-id-1 input.sk-hidden--visually {border: 0;clip: rect(1px 1px 1px 1px);clip: rect(1px, 1px, 1px, 1px);height: 1px;margin: -1px;overflow: hidden;padding: 0;position: absolute;width: 1px;}#sk-container-id-1 div.sk-estimator {font-family: monospace;background-color: #f0f8ff;border: 1px dotted black;border-radius: 0.25em;box-sizing: border-box;margin-bottom: 0.5em;}#sk-container-id-1 div.sk-estimator:hover {background-color: #d4ebff;}#sk-container-id-1 div.sk-parallel-item::after {content: \"\";width: 100%;border-bottom: 1px solid gray;flex-grow: 1;}#sk-container-id-1 div.sk-label:hover label.sk-toggleable__label {background-color: #d4ebff;}#sk-container-id-1 div.sk-serial::before {content: \"\";position: absolute;border-left: 1px solid gray;box-sizing: border-box;top: 0;bottom: 0;left: 50%;z-index: 0;}#sk-container-id-1 div.sk-serial {display: flex;flex-direction: column;align-items: center;background-color: white;padding-right: 0.2em;padding-left: 0.2em;position: relative;}#sk-container-id-1 div.sk-item {position: relative;z-index: 1;}#sk-container-id-1 div.sk-parallel {display: flex;align-items: stretch;justify-content: center;background-color: white;position: relative;}#sk-container-id-1 div.sk-item::before, #sk-container-id-1 div.sk-parallel-item::before {content: \"\";position: absolute;border-left: 1px solid gray;box-sizing: border-box;top: 0;bottom: 0;left: 50%;z-index: -1;}#sk-container-id-1 div.sk-parallel-item {display: flex;flex-direction: column;z-index: 1;position: relative;background-color: white;}#sk-container-id-1 div.sk-parallel-item:first-child::after {align-self: flex-end;width: 50%;}#sk-container-id-1 div.sk-parallel-item:last-child::after {align-self: flex-start;width: 50%;}#sk-container-id-1 div.sk-parallel-item:only-child::after {width: 0;}#sk-container-id-1 div.sk-dashed-wrapped {border: 1px dashed gray;margin: 0 0.4em 0.5em 0.4em;box-sizing: border-box;padding-bottom: 0.4em;background-color: white;}#sk-container-id-1 div.sk-label label {font-family: monospace;font-weight: bold;display: inline-block;line-height: 1.2em;}#sk-container-id-1 div.sk-label-container {text-align: center;}#sk-container-id-1 div.sk-container {/* jupyter's `normalize.less` sets `[hidden] { display: none; }` but bootstrap.min.css set `[hidden] { display: none !important; }` so we also need the `!important` here to be able to override the default hidden behavior on the sphinx rendered scikit-learn.org. See: https://github.com/scikit-learn/scikit-learn/issues/21755 */display: inline-block !important;position: relative;}#sk-container-id-1 div.sk-text-repr-fallback {display: none;}</style><div id=\"sk-container-id-1\" class=\"sk-top-container\"><div class=\"sk-text-repr-fallback\"><pre>LinearRegression()</pre><b>In a Jupyter environment, please rerun this cell to show the HTML representation or trust the notebook. <br />On GitHub, the HTML representation is unable to render, please try loading this page with nbviewer.org.</b></div><div class=\"sk-container\" hidden><div class=\"sk-item\"><div class=\"sk-estimator sk-toggleable\"><input class=\"sk-toggleable__control sk-hidden--visually\" id=\"sk-estimator-id-1\" type=\"checkbox\" checked><label for=\"sk-estimator-id-1\" class=\"sk-toggleable__label sk-toggleable__label-arrow\">LinearRegression</label><div class=\"sk-toggleable__content\"><pre>LinearRegression()</pre></div></div></div></div></div>"
      ],
      "text/plain": [
       "LinearRegression()"
      ]
     },
     "execution_count": 37,
     "metadata": {},
     "output_type": "execute_result"
    }
   ],
   "source": [
    "from sklearn.linear_model import LinearRegression\n",
    "lin_reg = LinearRegression()\n",
    "lin_reg.fit(X, y.values)"
   ]
  },
  {
   "cell_type": "code",
   "execution_count": 38,
   "id": "6b60955e",
   "metadata": {},
   "outputs": [],
   "source": [
    "y_pred = lin_reg.predict(X)"
   ]
  },
  {
   "cell_type": "code",
   "execution_count": 39,
   "id": "e1c7c919",
   "metadata": {},
   "outputs": [],
   "source": [
    "from sklearn.metrics import mean_absolute_error, mean_squared_error\n",
    "error = np.sqrt(mean_squared_error(y, y_pred))"
   ]
  },
  {
   "cell_type": "code",
   "execution_count": 40,
   "id": "939d8956",
   "metadata": {},
   "outputs": [
    {
     "data": {
      "text/plain": [
       "29498.889241390825"
      ]
     },
     "execution_count": 40,
     "metadata": {},
     "output_type": "execute_result"
    }
   ],
   "source": [
    "error"
   ]
  },
  {
   "cell_type": "code",
   "execution_count": 41,
   "id": "dc742234",
   "metadata": {},
   "outputs": [
    {
     "data": {
      "text/html": [
       "<style>#sk-container-id-2 {color: black;background-color: white;}#sk-container-id-2 pre{padding: 0;}#sk-container-id-2 div.sk-toggleable {background-color: white;}#sk-container-id-2 label.sk-toggleable__label {cursor: pointer;display: block;width: 100%;margin-bottom: 0;padding: 0.3em;box-sizing: border-box;text-align: center;}#sk-container-id-2 label.sk-toggleable__label-arrow:before {content: \"▸\";float: left;margin-right: 0.25em;color: #696969;}#sk-container-id-2 label.sk-toggleable__label-arrow:hover:before {color: black;}#sk-container-id-2 div.sk-estimator:hover label.sk-toggleable__label-arrow:before {color: black;}#sk-container-id-2 div.sk-toggleable__content {max-height: 0;max-width: 0;overflow: hidden;text-align: left;background-color: #f0f8ff;}#sk-container-id-2 div.sk-toggleable__content pre {margin: 0.2em;color: black;border-radius: 0.25em;background-color: #f0f8ff;}#sk-container-id-2 input.sk-toggleable__control:checked~div.sk-toggleable__content {max-height: 200px;max-width: 100%;overflow: auto;}#sk-container-id-2 input.sk-toggleable__control:checked~label.sk-toggleable__label-arrow:before {content: \"▾\";}#sk-container-id-2 div.sk-estimator input.sk-toggleable__control:checked~label.sk-toggleable__label {background-color: #d4ebff;}#sk-container-id-2 div.sk-label input.sk-toggleable__control:checked~label.sk-toggleable__label {background-color: #d4ebff;}#sk-container-id-2 input.sk-hidden--visually {border: 0;clip: rect(1px 1px 1px 1px);clip: rect(1px, 1px, 1px, 1px);height: 1px;margin: -1px;overflow: hidden;padding: 0;position: absolute;width: 1px;}#sk-container-id-2 div.sk-estimator {font-family: monospace;background-color: #f0f8ff;border: 1px dotted black;border-radius: 0.25em;box-sizing: border-box;margin-bottom: 0.5em;}#sk-container-id-2 div.sk-estimator:hover {background-color: #d4ebff;}#sk-container-id-2 div.sk-parallel-item::after {content: \"\";width: 100%;border-bottom: 1px solid gray;flex-grow: 1;}#sk-container-id-2 div.sk-label:hover label.sk-toggleable__label {background-color: #d4ebff;}#sk-container-id-2 div.sk-serial::before {content: \"\";position: absolute;border-left: 1px solid gray;box-sizing: border-box;top: 0;bottom: 0;left: 50%;z-index: 0;}#sk-container-id-2 div.sk-serial {display: flex;flex-direction: column;align-items: center;background-color: white;padding-right: 0.2em;padding-left: 0.2em;position: relative;}#sk-container-id-2 div.sk-item {position: relative;z-index: 1;}#sk-container-id-2 div.sk-parallel {display: flex;align-items: stretch;justify-content: center;background-color: white;position: relative;}#sk-container-id-2 div.sk-item::before, #sk-container-id-2 div.sk-parallel-item::before {content: \"\";position: absolute;border-left: 1px solid gray;box-sizing: border-box;top: 0;bottom: 0;left: 50%;z-index: -1;}#sk-container-id-2 div.sk-parallel-item {display: flex;flex-direction: column;z-index: 1;position: relative;background-color: white;}#sk-container-id-2 div.sk-parallel-item:first-child::after {align-self: flex-end;width: 50%;}#sk-container-id-2 div.sk-parallel-item:last-child::after {align-self: flex-start;width: 50%;}#sk-container-id-2 div.sk-parallel-item:only-child::after {width: 0;}#sk-container-id-2 div.sk-dashed-wrapped {border: 1px dashed gray;margin: 0 0.4em 0.5em 0.4em;box-sizing: border-box;padding-bottom: 0.4em;background-color: white;}#sk-container-id-2 div.sk-label label {font-family: monospace;font-weight: bold;display: inline-block;line-height: 1.2em;}#sk-container-id-2 div.sk-label-container {text-align: center;}#sk-container-id-2 div.sk-container {/* jupyter's `normalize.less` sets `[hidden] { display: none; }` but bootstrap.min.css set `[hidden] { display: none !important; }` so we also need the `!important` here to be able to override the default hidden behavior on the sphinx rendered scikit-learn.org. See: https://github.com/scikit-learn/scikit-learn/issues/21755 */display: inline-block !important;position: relative;}#sk-container-id-2 div.sk-text-repr-fallback {display: none;}</style><div id=\"sk-container-id-2\" class=\"sk-top-container\"><div class=\"sk-text-repr-fallback\"><pre>RandomForestRegressor(max_depth=100, max_features=&#x27;sqrt&#x27;, n_estimators=500,\n",
       "                      random_state=42)</pre><b>In a Jupyter environment, please rerun this cell to show the HTML representation or trust the notebook. <br />On GitHub, the HTML representation is unable to render, please try loading this page with nbviewer.org.</b></div><div class=\"sk-container\" hidden><div class=\"sk-item\"><div class=\"sk-estimator sk-toggleable\"><input class=\"sk-toggleable__control sk-hidden--visually\" id=\"sk-estimator-id-2\" type=\"checkbox\" checked><label for=\"sk-estimator-id-2\" class=\"sk-toggleable__label sk-toggleable__label-arrow\">RandomForestRegressor</label><div class=\"sk-toggleable__content\"><pre>RandomForestRegressor(max_depth=100, max_features=&#x27;sqrt&#x27;, n_estimators=500,\n",
       "                      random_state=42)</pre></div></div></div></div></div>"
      ],
      "text/plain": [
       "RandomForestRegressor(max_depth=100, max_features='sqrt', n_estimators=500,\n",
       "                      random_state=42)"
      ]
     },
     "execution_count": 41,
     "metadata": {},
     "output_type": "execute_result"
    }
   ],
   "source": [
    "from sklearn.ensemble import RandomForestRegressor\n",
    "rfr = RandomForestRegressor(random_state=42,\n",
    "                            n_estimators=500,\n",
    "                            max_depth=100,\n",
    "                            bootstrap=True,\n",
    "                           max_features='sqrt')\n",
    "rfr.fit(X, y.values)"
   ]
  },
  {
   "cell_type": "code",
   "execution_count": 42,
   "id": "d29d5d45",
   "metadata": {},
   "outputs": [
    {
     "name": "stdout",
     "output_type": "stream",
     "text": [
      "$21,479.41\n"
     ]
    }
   ],
   "source": [
    "y_pred = rfr.predict(X)\n",
    "error = np.sqrt(mean_squared_error(y, y_pred))\n",
    "print(\"${:,.02f}\".format(error))\n"
   ]
  },
  {
   "cell_type": "code",
   "execution_count": 43,
   "id": "911cf516",
   "metadata": {},
   "outputs": [
    {
     "data": {
      "text/html": [
       "<div>\n",
       "<style scoped>\n",
       "    .dataframe tbody tr th:only-of-type {\n",
       "        vertical-align: middle;\n",
       "    }\n",
       "\n",
       "    .dataframe tbody tr th {\n",
       "        vertical-align: top;\n",
       "    }\n",
       "\n",
       "    .dataframe thead th {\n",
       "        text-align: right;\n",
       "    }\n",
       "</style>\n",
       "<table border=\"1\" class=\"dataframe\">\n",
       "  <thead>\n",
       "    <tr style=\"text-align: right;\">\n",
       "      <th></th>\n",
       "      <th>Country</th>\n",
       "      <th>EdLevel</th>\n",
       "      <th>YearsCodePro</th>\n",
       "    </tr>\n",
       "  </thead>\n",
       "  <tbody>\n",
       "    <tr>\n",
       "      <th>9</th>\n",
       "      <td>36</td>\n",
       "      <td>2</td>\n",
       "      <td>4.0</td>\n",
       "    </tr>\n",
       "    <tr>\n",
       "      <th>11</th>\n",
       "      <td>35</td>\n",
       "      <td>0</td>\n",
       "      <td>5.0</td>\n",
       "    </tr>\n",
       "    <tr>\n",
       "      <th>12</th>\n",
       "      <td>13</td>\n",
       "      <td>2</td>\n",
       "      <td>6.0</td>\n",
       "    </tr>\n",
       "    <tr>\n",
       "      <th>23</th>\n",
       "      <td>12</td>\n",
       "      <td>2</td>\n",
       "      <td>2.0</td>\n",
       "    </tr>\n",
       "    <tr>\n",
       "      <th>24</th>\n",
       "      <td>13</td>\n",
       "      <td>2</td>\n",
       "      <td>18.0</td>\n",
       "    </tr>\n",
       "    <tr>\n",
       "      <th>...</th>\n",
       "      <td>...</td>\n",
       "      <td>...</td>\n",
       "      <td>...</td>\n",
       "    </tr>\n",
       "    <tr>\n",
       "      <th>83409</th>\n",
       "      <td>25</td>\n",
       "      <td>3</td>\n",
       "      <td>6.0</td>\n",
       "    </tr>\n",
       "    <tr>\n",
       "      <th>83419</th>\n",
       "      <td>1</td>\n",
       "      <td>2</td>\n",
       "      <td>13.0</td>\n",
       "    </tr>\n",
       "    <tr>\n",
       "      <th>83420</th>\n",
       "      <td>12</td>\n",
       "      <td>2</td>\n",
       "      <td>4.0</td>\n",
       "    </tr>\n",
       "    <tr>\n",
       "      <th>83424</th>\n",
       "      <td>13</td>\n",
       "      <td>0</td>\n",
       "      <td>12.0</td>\n",
       "    </tr>\n",
       "    <tr>\n",
       "      <th>83425</th>\n",
       "      <td>11</td>\n",
       "      <td>1</td>\n",
       "      <td>3.0</td>\n",
       "    </tr>\n",
       "  </tbody>\n",
       "</table>\n",
       "<p>15833 rows × 3 columns</p>\n",
       "</div>"
      ],
      "text/plain": [
       "       Country  EdLevel  YearsCodePro\n",
       "9           36        2           4.0\n",
       "11          35        0           5.0\n",
       "12          13        2           6.0\n",
       "23          12        2           2.0\n",
       "24          13        2          18.0\n",
       "...        ...      ...           ...\n",
       "83409       25        3           6.0\n",
       "83419        1        2          13.0\n",
       "83420       12        2           4.0\n",
       "83424       13        0          12.0\n",
       "83425       11        1           3.0\n",
       "\n",
       "[15833 rows x 3 columns]"
      ]
     },
     "execution_count": 43,
     "metadata": {},
     "output_type": "execute_result"
    }
   ],
   "source": [
    "X"
   ]
  },
  {
   "cell_type": "code",
   "execution_count": 44,
   "id": "e591edc8",
   "metadata": {},
   "outputs": [
    {
     "data": {
      "text/plain": [
       "array([['Greece', 'Master’s degree', '10']], dtype='<U21')"
      ]
     },
     "execution_count": 44,
     "metadata": {},
     "output_type": "execute_result"
    }
   ],
   "source": [
    "X = np.array([[\"Greece\", 'Master’s degree', 10]])\n",
    "X"
   ]
  },
  {
   "cell_type": "code",
   "execution_count": 45,
   "id": "85d2fa50",
   "metadata": {},
   "outputs": [
    {
     "data": {
      "text/plain": [
       "array([[14.,  2., 10.]])"
      ]
     },
     "execution_count": 45,
     "metadata": {},
     "output_type": "execute_result"
    }
   ],
   "source": [
    "X[:, 0] = le_country.transform(X[:,0])\n",
    "X[:, 1] = le_ed.transform(X[:,1])\n",
    "X = X.astype(float)\n",
    "X"
   ]
  },
  {
   "cell_type": "code",
   "execution_count": 46,
   "id": "edf80fa8",
   "metadata": {},
   "outputs": [
    {
     "data": {
      "text/plain": [
       "array([47820.3340625])"
      ]
     },
     "execution_count": 46,
     "metadata": {},
     "output_type": "execute_result"
    }
   ],
   "source": [
    "y_pred = rfr.predict(X)\n",
    "y_pred"
   ]
  },
  {
   "cell_type": "code",
   "execution_count": 47,
   "id": "746668b6",
   "metadata": {},
   "outputs": [],
   "source": [
    "import pickle"
   ]
  },
  {
   "cell_type": "code",
   "execution_count": 48,
   "id": "adbab0c8",
   "metadata": {},
   "outputs": [],
   "source": [
    "data = {\"model\":rfr, \"le_country\":le_country, \"le_ed\":le_ed}\n",
    "with open('salary_test.pkl', 'wb') as file:\n",
    "    pickle.dump(data, file)"
   ]
  },
  {
   "cell_type": "code",
   "execution_count": 49,
   "id": "4b3f1d7a",
   "metadata": {},
   "outputs": [],
   "source": [
    "with open('salary_test.pkl', 'rb') as file:\n",
    "    data = pickle.load(file)\n",
    "    \n",
    "rfr_loaded = data[\"model\"]\n",
    "le_country = data[\"le_country\"]\n",
    "le_ed = data[\"le_ed\"]"
   ]
  },
  {
   "cell_type": "code",
   "execution_count": 50,
   "id": "8b982781",
   "metadata": {},
   "outputs": [
    {
     "data": {
      "text/plain": [
       "array([47820.3340625])"
      ]
     },
     "execution_count": 50,
     "metadata": {},
     "output_type": "execute_result"
    }
   ],
   "source": [
    "y_pred = rfr_loaded.predict(X)\n",
    "y_pred"
   ]
  },
  {
   "cell_type": "code",
   "execution_count": null,
   "id": "3784aeb3",
   "metadata": {},
   "outputs": [],
   "source": []
  }
 ],
 "metadata": {
  "kernelspec": {
   "display_name": "ml",
   "language": "python",
   "name": "ml"
  },
  "language_info": {
   "codemirror_mode": {
    "name": "ipython",
    "version": 3
   },
   "file_extension": ".py",
   "mimetype": "text/x-python",
   "name": "python",
   "nbconvert_exporter": "python",
   "pygments_lexer": "ipython3",
   "version": "3.8.13"
  }
 },
 "nbformat": 4,
 "nbformat_minor": 5
}
